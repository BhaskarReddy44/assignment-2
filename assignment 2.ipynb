{
 "cells": [
  {
   "cell_type": "code",
   "execution_count": 2,
   "metadata": {},
   "outputs": [
    {
     "name": "stdout",
     "output_type": "stream",
     "text": [
      "15\n"
     ]
    }
   ],
   "source": [
    "# program 1\n",
    "\n",
    "num1=5\n",
    "num2=10\n",
    "if num1==num2:\n",
    "    print((10+10)*2)\n",
    "else:\n",
    "    print(num1+num2)"
   ]
  },
  {
   "cell_type": "code",
   "execution_count": 11,
   "metadata": {},
   "outputs": [
    {
     "name": "stdout",
     "output_type": "stream",
     "text": [
      "profit of: 100\n"
     ]
    }
   ],
   "source": [
    "# program 2\n",
    "\n",
    "cost_price=100\n",
    "selling_price=200\n",
    "\n",
    "if selling_price > cost_price:\n",
    "    print(\"profit of:\",selling_price-cost_price)\n",
    "else:\n",
    "    print(\"Loss of:\",cost_price-selling_price)\n",
    "    "
   ]
  },
  {
   "cell_type": "code",
   "execution_count": 17,
   "metadata": {},
   "outputs": [
    {
     "name": "stdout",
     "output_type": "stream",
     "text": [
      "enter a first angle of triangle  :90\n",
      "enter a second angle of triangle :45\n",
      "enter a third  angle of triangle :45\n",
      "Given triangle is valid\n"
     ]
    }
   ],
   "source": [
    "# program 3\n",
    "\n",
    "a=int(input(\"enter a first angle of triangle  :\"))\n",
    "b=int(input(\"enter a second angle of triangle :\"))\n",
    "c=int(input(\"enter a third  angle of triangle :\"))\n",
    "\n",
    "total=a+b+c\n",
    "\n",
    "if total==180:\n",
    "    print(\"Given triangle is valid\")\n",
    "else:\n",
    "    print(\"Given triangle is Invalid\")\n"
   ]
  },
  {
   "cell_type": "code",
   "execution_count": 29,
   "metadata": {},
   "outputs": [
    {
     "name": "stdout",
     "output_type": "stream",
     "text": [
      "max  is : 90\n",
      "index is: 3\n"
     ]
    }
   ],
   "source": [
    "# program 4\n",
    "\n",
    "nums=[10,50,20,90,60,30]\n",
    "\n",
    "a=max(nums)\n",
    "print(\"max  is :\",a)\n",
    "print(\"index is:\",nums.index(a))"
   ]
  },
  {
   "cell_type": "code",
   "execution_count": 1,
   "metadata": {},
   "outputs": [
    {
     "name": "stdout",
     "output_type": "stream",
     "text": [
      "0\n",
      "1\n",
      "1\n",
      "2\n",
      "3\n",
      "5\n",
      "8\n",
      "13\n",
      "21\n",
      "34\n",
      "55\n",
      "89\n",
      "144\n",
      "233\n",
      "377\n",
      "610\n",
      "987\n",
      "1597\n",
      "2584\n",
      "4181\n"
     ]
    }
   ],
   "source": [
    "#  program 5\n",
    "\n",
    "n=20\n",
    "\n",
    "num1=0\n",
    "num2=1\n",
    "\n",
    "if n==1:\n",
    "    print(num1)\n",
    "else:\n",
    "    print(num1)\n",
    "    print(num2)\n",
    "\n",
    "for i in range(2,n):\n",
    "    temp=num1+num2\n",
    "    num1=num2\n",
    "    num2=temp\n",
    "    print(temp)"
   ]
  },
  {
   "cell_type": "code",
   "execution_count": 2,
   "metadata": {},
   "outputs": [
    {
     "name": "stdout",
     "output_type": "stream",
     "text": [
      "PythOn sAmplE InpUt strIng"
     ]
    }
   ],
   "source": [
    "# program 6\n",
    "#\"PythOn sAmplE InpUt strIng\"\n",
    "\n",
    "string = \"Python sample input string\"\n",
    "\n",
    "vowels=['a','e','i','o','u']\n",
    "result=[]\n",
    "for s in string:\n",
    "    if s in vowels:\n",
    "        s=s.upper()\n",
    "    result.append(s)\n",
    "for i in result:\n",
    "    print(i,end='')"
   ]
  },
  {
   "cell_type": "code",
   "execution_count": 14,
   "metadata": {},
   "outputs": [
    {
     "name": "stdout",
     "output_type": "stream",
     "text": [
      "enter a number:12.3\n",
      " Valid floating number\n"
     ]
    }
   ],
   "source": [
    "# program 7\n",
    "\n",
    "n=input(\"enter a number:\")\n",
    "if \".\" in n:\n",
    "    print(\" Valid floating number\")\n",
    "else:\n",
    "    print(\"Invalid floating number\")\n"
   ]
  },
  {
   "cell_type": "code",
   "execution_count": 79,
   "metadata": {},
   "outputs": [
    {
     "name": "stdout",
     "output_type": "stream",
     "text": [
      "[[11, 22, 33], [44, 55, 66], [77, 88, 99]]\n"
     ]
    }
   ],
   "source": [
    "# program 8\n",
    "\n",
    "a = [[10,20,30], [40,50,60], [70,80,90]]\n",
    "b = [[1,2,3], [4,5,6], [7,8,9]]\n",
    "\n",
    "c = [[0,0,0], [0,0,0],[0,0,0]] \n",
    "\n",
    "for i in range(len(a)):    \n",
    "    for j in range(len(a[0])): \n",
    "        c[i][j] = a[i][j] + b[i][j] \n",
    "print(c)"
   ]
  },
  {
   "cell_type": "code",
   "execution_count": 4,
   "metadata": {},
   "outputs": [
    {
     "name": "stdout",
     "output_type": "stream",
     "text": [
      "{10: 3, 20: 2, 30: 1}\n"
     ]
    }
   ],
   "source": [
    "# program 9\n",
    "\n",
    "def num_count(nums):\n",
    "    num_set=set(nums)\n",
    "    count={}\n",
    "    for i in num_set:\n",
    "        count[i]=nums.count(i)\n",
    "    return count\n",
    "\n",
    "\n",
    "nums = [10,10,20,10,30,20] \n",
    "num_count=num_count(nums)\n",
    "print(num_count)"
   ]
  },
  {
   "cell_type": "code",
   "execution_count": null,
   "metadata": {},
   "outputs": [],
   "source": [
    "# program 10"
   ]
  },
  {
   "cell_type": "code",
   "execution_count": null,
   "metadata": {},
   "outputs": [],
   "source": [
    "# program 11"
   ]
  },
  {
   "cell_type": "code",
   "execution_count": null,
   "metadata": {},
   "outputs": [],
   "source": [
    "# program 12"
   ]
  },
  {
   "cell_type": "code",
   "execution_count": 11,
   "metadata": {},
   "outputs": [],
   "source": [
    "# program 13"
   ]
  },
  {
   "cell_type": "code",
   "execution_count": 2,
   "metadata": {},
   "outputs": [
    {
     "name": "stdout",
     "output_type": "stream",
     "text": [
      "enter a number of units: 120\n",
      "Total bill is: 108.0\n"
     ]
    }
   ],
   "source": [
    "# program 14\n",
    "\n",
    "units=int(input(\"enter a number of units: \"))\n",
    "if units>0 and units<=50:\n",
    "    u=units*0.50\n",
    "    a=u*0.2\n",
    "    t=u+a\n",
    "    print(\"Total bill is:\",t)\n",
    "elif units>51 and units <= 150:\n",
    "    u=units*0.75\n",
    "    a=u*0.2\n",
    "    t=u+a\n",
    "    print(\"Total bill is:\",t)\n",
    "elif units>151 and units <= 250:\n",
    "    u=units*1.20\n",
    "    a=u*0.2\n",
    "    t=u+a\n",
    "    print(\"Total bill is:\",t)\n",
    "else:\n",
    "    u=units*1.50\n",
    "    a=u*0.2\n",
    "    t=u+a\n",
    "    print(\"Total bill is:\",t)\n"
   ]
  },
  {
   "cell_type": "code",
   "execution_count": 7,
   "metadata": {},
   "outputs": [
    {
     "name": "stdout",
     "output_type": "stream",
     "text": [
      "enter an amount:250\n",
      "enter quality of service:3\n",
      "tip is 37.5\n"
     ]
    }
   ],
   "source": [
    "# program 15\n",
    "\n",
    "amount=int(input(\"enter an amount:\"))\n",
    "qos=int(input(\"enter quality of service:\"))\n",
    "        \n",
    "if qos == 1:\n",
    "    tip=amount/100 * 5\n",
    "    print(\"tip is\",tip)\n",
    "elif qos == 2:\n",
    "    tip=amount/100 * 10\n",
    "    print(\"tip is\",tip)\n",
    "elif qos == 3:\n",
    "    tip=amount/100 * 15\n",
    "    print(\"tip is\",tip)\n",
    "elif qos == 4:\n",
    "    tip=amount/100 * 20\n",
    "    print(\"tip is\",tip)\n",
    "elif qos == 5:\n",
    "    tip=amount/100 * 25\n",
    "    print(\"tip is\",tip)\n",
    "else:\n",
    "    print(\"Invalid QOS\")"
   ]
  },
  {
   "cell_type": "code",
   "execution_count": null,
   "metadata": {},
   "outputs": [],
   "source": [
    "# program 16\n"
   ]
  },
  {
   "cell_type": "code",
   "execution_count": 6,
   "metadata": {},
   "outputs": [
    {
     "name": "stdout",
     "output_type": "stream",
     "text": [
      "{'comparing': 1, 'build': 2, 'of': 1, 'Python': 2, 'invalidation': 1, 'for': 1, 'timestamp': 1, 'thesource': 1, 'saved': 1, 'traditionally': 1, 'checked': 1, 'filesystem': 1, 'and': 1, 'When': 1, 'a': 1, 'has': 2, 'up-to-dateness': 1, 'it': 1, 'generated.': 1, 'timestamps': 1, 'header': 1, 'too': 1, 'coarse,': 1, 'metadata': 2, 'can': 1, 'effective,this': 1, 'file': 2, 'Additionally,': 1, 'method': 1, 'the': 3, 'its': 1, 'source': 1, 'bytecode': 1, 'in': 2, 'cache': 3, 'when': 1, 'While': 1, 'to': 1, 'reproducibility': 1, 'user': 1, 'confusion.': 1, 'content-based': 1, 'having': 1, 'are': 1, 'files': 1, 'was': 1, 'drawbacks.': 1, 'systems.': 1, 'updates,': 1, 'with': 1, 'leading': 1, 'is': 1, 'problematic': 1, 'by': 1, 'misssource': 1}\n"
     ]
    }
   ],
   "source": [
    "# program 17\n",
    "\n",
    "string=\"\"\"Python has traditionally checked the up-to-dateness of bytecode cache files by comparing thesource metadata with \n",
    "          source metadata saved in the cache file header when it was generated. While effective,this invalidation method has\n",
    "          its drawbacks. When filesystem timestamps are too coarse, Python can misssource updates, leading to user confusion. \n",
    "          Additionally, having a timestamp in the cache file is problematic for build reproducibility and content-based build\n",
    "          systems.\"\"\"\n",
    "words=string.split()\n",
    "word=set(words)\n",
    "d_count={}\n",
    "for i in word:\n",
    "    count=words.count(i)\n",
    "    d_count[i]=count\n",
    "print(d_count)"
   ]
  },
  {
   "cell_type": "code",
   "execution_count": null,
   "metadata": {},
   "outputs": [],
   "source": [
    "# program 18"
   ]
  },
  {
   "cell_type": "code",
   "execution_count": 2,
   "metadata": {},
   "outputs": [],
   "source": [
    "# program 19\n",
    "# to merge two txt files to third txt file\n",
    "\n",
    "fp=open(\"first.txt\",'w')\n",
    "fp.write(\"In this file It contains a first file data\")\n",
    "fp.close()"
   ]
  },
  {
   "cell_type": "code",
   "execution_count": 3,
   "metadata": {},
   "outputs": [],
   "source": [
    "fp=open(\"second.txt\",'w')\n",
    "fp.write(\"In this file It contains a second file data\")\n",
    "fp.close()"
   ]
  },
  {
   "cell_type": "code",
   "execution_count": 4,
   "metadata": {},
   "outputs": [],
   "source": [
    "files=['first.txt','second.txt']\n",
    "with open(\"third.txt\",'w') as fp:\n",
    "    for file in files:\n",
    "        with open(file) as infile:\n",
    "            fp.write(infile.read())"
   ]
  },
  {
   "cell_type": "code",
   "execution_count": 5,
   "metadata": {},
   "outputs": [],
   "source": [
    "# program 20\n",
    "# to remove empty lines from a txt file\n",
    "\n",
    "files=['first.txt','second.txt']\n",
    "with open(\"fourth.txt\",'w') as fp:\n",
    "    for file in files:\n",
    "        with open(file) as infile:\n",
    "            fp.write(infile.read())"
   ]
  },
  {
   "cell_type": "code",
   "execution_count": 8,
   "metadata": {},
   "outputs": [
    {
     "name": "stdout",
     "output_type": "stream",
     "text": [
      "In this file It contains a first file data\n",
      "\n",
      "In this file It contains a second file data\n",
      "\n",
      "python\n",
      "\n",
      "java\n",
      "\n",
      "oracle\n",
      "\n",
      "\n"
     ]
    }
   ],
   "source": [
    "f=open(\"fourth.txt\",'r')\n",
    "data=f.read()\n",
    "print(data)\n",
    "f.close()"
   ]
  },
  {
   "cell_type": "code",
   "execution_count": 7,
   "metadata": {},
   "outputs": [
    {
     "name": "stdout",
     "output_type": "stream",
     "text": [
      "In this file It contains a first file data\n",
      "In this file It contains a second file data\n",
      "python\n",
      "java\n",
      "oracle\n",
      "\n"
     ]
    }
   ],
   "source": [
    "with open(\"fourth.txt\") as f:\n",
    "    print( \"\".join(line for line in f if not line.isspace()))"
   ]
  },
  {
   "cell_type": "code",
   "execution_count": 31,
   "metadata": {},
   "outputs": [],
   "source": [
    "# program 21\n",
    "#.combine each line from first file with the corresponding line in second file into the third file\n",
    "\n",
    "with open('first.txt') as f1,open('second.txt') as f2:\n",
    "    for line1,line2 in zip(f1, f2):\n",
    "        with open('fifth.txt','a') as f:\n",
    "            f.writelines(line1+line2)"
   ]
  },
  {
   "cell_type": "code",
   "execution_count": 43,
   "metadata": {},
   "outputs": [
    {
     "name": "stdout",
     "output_type": "stream",
     "text": [
      "enter a ticket number INC12A34\n",
      "Valid Support Ticket Number\n"
     ]
    }
   ],
   "source": [
    "# program 22\n",
    "\n",
    "import re\n",
    "ticket=input(\"enter a ticket number \")\n",
    "m=re.fullmatch(\"INC[0-9]{2}[A-Z]{1}[0-9]{2}\",ticket)\n",
    "if m!=None:\n",
    "    print(\"Valid Support Ticket Number\")\n",
    "else:\n",
    "    print(\"Invalid Support Ticket Number\")"
   ]
  },
  {
   "cell_type": "code",
   "execution_count": 1,
   "metadata": {},
   "outputs": [
    {
     "name": "stdout",
     "output_type": "stream",
     "text": [
      "Enter password abcdeF$a\n",
      "Given password is Invalid password \n"
     ]
    }
   ],
   "source": [
    "# program 23\n",
    "\n",
    "import re\n",
    "password=input(\"Enter password \")\n",
    "m=re.fullmatch(\"[a-z][A-Z]{1}[\\W]{6,12}\",password)\n",
    "if m!=None:\n",
    "    print(\"Given password is valid password \")\n",
    "else:\n",
    "    print(\"Given password is Invalid password \")"
   ]
  },
  {
   "cell_type": "code",
   "execution_count": 2,
   "metadata": {},
   "outputs": [
    {
     "name": "stdout",
     "output_type": "stream",
     "text": [
      "Enter phone number +919014452304\n",
      "valid international phone number  \n"
     ]
    }
   ],
   "source": [
    "# program 24\n",
    "\n",
    "import re\n",
    "phone=input(\"Enter phone number \")\n",
    "m=re.fullmatch(\"^\\+[0-9]{2}[0-9]{4,15}\",phone)\n",
    "if m!=None:\n",
    "    print(\"valid international phone number  \")\n",
    "else:\n",
    "    print(\"Invalid international phone number  \")\n"
   ]
  }
 ],
 "metadata": {
  "kernelspec": {
   "display_name": "Python 3",
   "language": "python",
   "name": "python3"
  },
  "language_info": {
   "codemirror_mode": {
    "name": "ipython",
    "version": 3
   },
   "file_extension": ".py",
   "mimetype": "text/x-python",
   "name": "python",
   "nbconvert_exporter": "python",
   "pygments_lexer": "ipython3",
   "version": "3.7.2"
  }
 },
 "nbformat": 4,
 "nbformat_minor": 2
}
